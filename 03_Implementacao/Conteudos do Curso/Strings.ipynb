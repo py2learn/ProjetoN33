{
 "cells": [
  {
   "cell_type": "markdown",
   "metadata": {},
   "source": [
    "<h1>Strings em Python</h1>\n",
    "\n",
    "Em python as Strings são consideradas arrays (conjuntos) de bytes (unidade de informação digital equivalente a oito bits) representando caracteres unicode, elas são consideradas como sendo Strings quando a palavra/letra em questão esteja rodeada por aspas ou plicas (<b>\" \"</b> / <b>' '</b>)\n",
    "\n",
    "Resumindo cada string é um conjunto de caracteres rodeados por aspas ou plicas e, para aceder a cada elemento da string utilizam-se parênteses retos na variável com o índice do elemento em questão. \n",
    "\n",
    "<b>Obs:</b> O índice de um conjunto começa por zero.\n",
    " <br>   \n",
    "<h3>Exemplo 1:</h3>"
   ]
  },
  {
   "cell_type": "code",
   "execution_count": 11,
   "metadata": {},
   "outputs": [
    {
     "name": "stdout",
     "output_type": "stream",
     "text": [
      "P\n"
     ]
    }
   ],
   "source": [
    "c1 = 'o'\n",
    "c2 = 'a'\n",
    "word = \"Python\"\n",
    "print(word[0])"
   ]
  },
  {
   "cell_type": "markdown",
   "metadata": {},
   "source": [
    "P"
   ]
  },
  {
   "cell_type": "markdown",
   "metadata": {},
   "source": [
    "<br>\n",
    "<h2>Métodos/Funções das Strings</h2>\n",
    "<br>"
   ]
  },
  {
   "cell_type": "code",
   "execution_count": 24,
   "metadata": {},
   "outputs": [
    {
     "name": "stdout",
     "output_type": "stream",
     "text": [
      "6\n",
      "Python\n",
      "python - PYTHON\n",
      "Pythan\n",
      "['Python']\n"
     ]
    }
   ],
   "source": [
    "print(len(word)) #imprime o tamanho da String quando utilizado o print()\n",
    "\n",
    "print(word.strip()) #remove todos os espaços em branco existentes no início e no fim de cada String e retorna o resultado\n",
    "    \n",
    "print(word.lower(), \"-\", word.upper()) #devolve a String com todos os caracteres minúsculos ou maiúsculos quando utilizado upper()    \n",
    "    \n",
    "print(word.replace(c1, c2)) #substitui todos os caracteres \"c1\" da String pelo caracter \"c2\" e retorna a nova palavra\n",
    "\n",
    "print(word.split(\",\")) #retorna um array de palavras existentes na String caso existam mais de uma \n"
   ]
  },
  {
   "cell_type": "markdown",
   "metadata": {},
   "source": [
    "<br>\n",
    "<b>Resultado:</b>\n",
    "<br>\n",
    "6<br>\n",
    "Python<br>\n",
    "python - PYTHON<br>\n",
    "Pythan<br>\n",
    "['Python']\n",
    "    \n",
    "    "
   ]
  },
  {
   "cell_type": "code",
   "execution_count": null,
   "metadata": {},
   "outputs": [],
   "source": []
  },
  {
   "cell_type": "code",
   "execution_count": 7,
   "metadata": {},
   "outputs": [
    {
     "data": {
      "text/html": [
       "\n",
       "<html>\n",
       "    <head>\n",
       "        <link rel=\"stylesheet\" href=\"cssM.css\">\n",
       "    </head>\n",
       "    <body>\n",
       "\n",
       "        <div class=\"sidenav\">\n",
       "          <a href=\"#about\" style=\"color:red;\">Página Inicial</a>\n",
       "          <a href=\"Introduction.ipynb\" style=\"color:orange;\">Introdução</a>\n",
       "          <button class=\"dropdown-btn\">\n",
       "          <a style=\"color:#f7e168;\">Módulos</a> <i class=\"fa fa-caret-down\"></i>\n",
       "          </button>\n",
       "          <div class=\"dropdown-container\">\n",
       "            <a href=\"Sintaxe.ipynb\"  style=\"color:#6ff0ac\">1. Sintaxe</a>\n",
       "            <a href=\"#\" style=\"color:#6ff0ac\">2. Variáveis</a><button class=\"dropdown-btn\"> \n",
       "                <i class=\"fa fa-caret-down\"></i>\n",
       "            </button>\n",
       "            <div class=\"dropdown-container\">\n",
       "                <a href=\"Variaveis.ipynb\" style=\"color:#82b9fc\">2.1 Booleanos</a>\n",
       "                <a href=\"Numeros.ipynb\" style=\"color:#82b9fc\">2.2 Números</a>\n",
       "                <a href=\"Strings.ipynb\" style=\"color:#82b9fc\">2.3 Strings</a>\n",
       "            </div>\n",
       "            <a href=\"teste1.ipynb\">Teste 1</a>\n",
       "            <a href=\"#\"  style=\"color:#6ff0ac\">3. Coleções</a><button class=\"dropdown-btn\">\n",
       "                <i class=\"fa fa-caret-down\"></i>\n",
       "            </button>\n",
       "            <div class=\"dropdown-container\">\n",
       "                <a href=\"Colecoes.ipynb\" style=\"color:#82b9fc\">3.1. Listas</a>\n",
       "                <a href=\"Tuplos.ipynb\" style=\"color:#82b9fc\">3.2. Tuplos</a>\n",
       "                <a href=\"Conjuntos.ipynb\" style=\"color:#82b9fc\">3.3. Conjuntos</a>\n",
       "                <a href=\"Dicionarios.ipynb\" style=\"color:#82b9fc\">3.4. Dicionários</a>\n",
       "            </div>\n",
       "            <a href=\"Operadores.ipynb\"  style=\"color:#6ff0ac\">4. Operadores</a>\n",
       "            <a href=\"teste2.ipynb\">Teste 2</a>\n",
       "           <a href=\"Fluxo.ipynb\"  style=\"color:#6ff0ac\"> 5. Controlo de Fluxo</a>\n",
       "           <a href=\"Funcoes.ipynb\"  style=\"color:#6ff0ac\"> 6. Funções</a>\n",
       "            <a href=\"teste3.ipynb\">Teste 3</a>\n",
       "           <a href=\"ClassObjetos.ipynb\"  style=\"color:#6ff0ac\"> 7. Classes/Objetos</a>\n",
       "           <a href=\"Herancas.ipynb\"  style=\"color:#6ff0ac\"> 8. Heranças</a>\n",
       "            <a href=\"teste4.ipynb\">Teste 4</a>\n",
       "\n",
       "          </div>\n",
       "        </div>  \n",
       "\t\t<script>\n",
       "            var dropdown = document.getElementsByClassName(\"dropdown-btn\");\n",
       "            var i;\n",
       "\n",
       "            for (i = 0; i < dropdown.length; i++) {\n",
       "              dropdown[i].addEventListener(\"click\", function() {\n",
       "              this.classList.toggle(\"active\");\n",
       "              var dropdownContent = this.nextElementSibling;\n",
       "              if (dropdownContent.style.display === \"block\") {\n",
       "              dropdownContent.style.display = \"none\";\n",
       "              } else {\n",
       "              dropdownContent.style.display = \"block\";\n",
       "              }\n",
       "              });\n",
       "            }\n",
       "\n",
       "            code_show=true; \n",
       "            function code_toggle() {\n",
       "                if (code_show){\n",
       "                    $('div.cell.code_cell.rendered.selected div.input').hide();\n",
       "                } else {\n",
       "                    $('div.cell.code_cell.rendered.selected div.input').show();\n",
       "                }\n",
       "                code_show = !code_show\n",
       "            } \n",
       "\n",
       "            $(document).ready(code_toggle);\n",
       "        </script>\n",
       "        <div class=\"footer\">\n",
       "          <p>Para ocultar/mostrar o código, clique <a href=\"javascript:code_toggle()\">aqui</a>.</p>\n",
       "        </div>\n",
       "    </body>\n",
       "</html>"
      ],
      "text/plain": [
       "<IPython.core.display.HTML object>"
      ]
     },
     "execution_count": 7,
     "metadata": {},
     "output_type": "execute_result"
    }
   ],
   "source": [
    "from IPython.core.display import display, HTML\n",
    "\n",
    "\n",
    "HTML('''\n",
    "<html>\n",
    "    <head>\n",
    "        <link rel=\"stylesheet\" href=\"cssM.css\">\n",
    "    </head>\n",
    "    <body>\n",
    "\n",
    "        <div class=\"sidenav\">\n",
    "          <a href=\"#about\" style=\"color:red;\">Página Inicial</a>\n",
    "          <a href=\"Introduction.ipynb\" style=\"color:orange;\">Introdução</a>\n",
    "          <button class=\"dropdown-btn\">\n",
    "          <a style=\"color:#f7e168;\">Módulos</a> <i class=\"fa fa-caret-down\"></i>\n",
    "          </button>\n",
    "          <div class=\"dropdown-container\">\n",
    "            <a href=\"Sintaxe.ipynb\"  style=\"color:#6ff0ac\">1. Sintaxe</a>\n",
    "            <a href=\"#\" style=\"color:#6ff0ac\">2. Variáveis</a><button class=\"dropdown-btn\"> \n",
    "                <i class=\"fa fa-caret-down\"></i>\n",
    "            </button>\n",
    "            <div class=\"dropdown-container\">\n",
    "                <a href=\"Variaveis.ipynb\" style=\"color:#82b9fc\">2.1 Booleanos</a>\n",
    "                <a href=\"Numeros.ipynb\" style=\"color:#82b9fc\">2.2 Números</a>\n",
    "                <a href=\"Strings.ipynb\" style=\"color:#82b9fc\">2.3 Strings</a>\n",
    "            </div>\n",
    "            <a href=\"teste1.ipynb\">Teste 1</a>\n",
    "            <a href=\"#\"  style=\"color:#6ff0ac\">3. Coleções</a><button class=\"dropdown-btn\">\n",
    "                <i class=\"fa fa-caret-down\"></i>\n",
    "            </button>\n",
    "            <div class=\"dropdown-container\">\n",
    "                <a href=\"Colecoes.ipynb\" style=\"color:#82b9fc\">3.1. Listas</a>\n",
    "                <a href=\"Tuplos.ipynb\" style=\"color:#82b9fc\">3.2. Tuplos</a>\n",
    "                <a href=\"Conjuntos.ipynb\" style=\"color:#82b9fc\">3.3. Conjuntos</a>\n",
    "                <a href=\"Dicionarios.ipynb\" style=\"color:#82b9fc\">3.4. Dicionários</a>\n",
    "            </div>\n",
    "            <a href=\"Operadores.ipynb\"  style=\"color:#6ff0ac\">4. Operadores</a>\n",
    "            <a href=\"teste2.ipynb\">Teste 2</a>\n",
    "           <a href=\"Fluxo.ipynb\"  style=\"color:#6ff0ac\"> 5. Controlo de Fluxo</a>\n",
    "           <a href=\"Funcoes.ipynb\"  style=\"color:#6ff0ac\"> 6. Funções</a>\n",
    "            <a href=\"teste3.ipynb\">Teste 3</a>\n",
    "           <a href=\"ClassObjetos.ipynb\"  style=\"color:#6ff0ac\"> 7. Classes/Objetos</a>\n",
    "           <a href=\"Herancas.ipynb\"  style=\"color:#6ff0ac\"> 8. Heranças</a>\n",
    "            <a href=\"teste4.ipynb\">Teste 4</a>\n",
    "\n",
    "          </div>\n",
    "        </div>  \n",
    "\t\t<script>\n",
    "            var dropdown = document.getElementsByClassName(\"dropdown-btn\");\n",
    "            var i;\n",
    "\n",
    "            for (i = 0; i < dropdown.length; i++) {\n",
    "              dropdown[i].addEventListener(\"click\", function() {\n",
    "              this.classList.toggle(\"active\");\n",
    "              var dropdownContent = this.nextElementSibling;\n",
    "              if (dropdownContent.style.display === \"block\") {\n",
    "              dropdownContent.style.display = \"none\";\n",
    "              } else {\n",
    "              dropdownContent.style.display = \"block\";\n",
    "              }\n",
    "              });\n",
    "            }\n",
    "\n",
    "            code_show=true; \n",
    "            function code_toggle() {\n",
    "                if (code_show){\n",
    "                    $('div.cell.code_cell.rendered.selected div.input').hide();\n",
    "                } else {\n",
    "                    $('div.cell.code_cell.rendered.selected div.input').show();\n",
    "                }\n",
    "                code_show = !code_show\n",
    "            } \n",
    "\n",
    "            $(document).ready(code_toggle);\n",
    "        </script>\n",
    "        <div class=\"footer\">\n",
    "          <p>Para ocultar/mostrar o código, clique <a href=\"javascript:code_toggle()\">aqui</a>.</p>\n",
    "        </div>\n",
    "    </body>\n",
    "</html>''')\n"
   ]
  }
 ],
 "metadata": {
  "kernelspec": {
   "display_name": "Python 3",
   "language": "python",
   "name": "python3"
  },
  "language_info": {
   "codemirror_mode": {
    "name": "ipython",
    "version": 3
   },
   "file_extension": ".py",
   "mimetype": "text/x-python",
   "name": "python",
   "nbconvert_exporter": "python",
   "pygments_lexer": "ipython3",
   "version": "3.7.3"
  }
 },
 "nbformat": 4,
 "nbformat_minor": 2
}
